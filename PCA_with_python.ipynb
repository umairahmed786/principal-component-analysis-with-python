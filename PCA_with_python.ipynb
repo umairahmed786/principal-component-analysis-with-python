{
  "nbformat": 4,
  "nbformat_minor": 0,
  "metadata": {
    "colab": {
      "provenance": [],
      "authorship_tag": "ABX9TyPfUtVbrxmCPw8ulgtRqDPq",
      "include_colab_link": true
    },
    "kernelspec": {
      "name": "python3",
      "display_name": "Python 3"
    },
    "language_info": {
      "name": "python"
    }
  },
  "cells": [
    {
      "cell_type": "markdown",
      "metadata": {
        "id": "view-in-github",
        "colab_type": "text"
      },
      "source": [
        "<a href=\"https://colab.research.google.com/github/umairahmed786/principal-component-analysis-with-python/blob/main/PCA_with_python.ipynb\" target=\"_parent\"><img src=\"https://colab.research.google.com/assets/colab-badge.svg\" alt=\"Open In Colab\"/></a>"
      ]
    },
    {
      "cell_type": "markdown",
      "source": [
        "# Principal Component Analysis (PCA)\n",
        "\n",
        "Principal Component Analysis (PCA) is a powerful dimensionality reduction technique commonly used in data analysis and machine learning. PCA transforms the data into a new coordinate system where the greatest variances by any projection of the data come to lie on the first coordinate (called the first principal component), the second greatest variances on the second coordinate, and so on. This transformation is achieved by orthogonal linear transformations of the original data. By doing so, PCA reduces the dimensionality of the data while retaining most of the variability in the dataset.\n",
        "\n",
        "Implementing PCA involves several steps:\n",
        "1. **Standardizing the Data**: Since PCA is affected by the scale of the data, it is important to standardize the data such that each feature has a mean of 0 and a standard deviation of 1.\n",
        "2. **Covariance Matrix Computation**: Calculate the covariance matrix to understand how the variables of the input data are varying from the mean with respect to each other.\n",
        "3. **Eigen Decomposition**: Compute the eigenvalues and eigenvectors of the covariance matrix to identify the principal components.\n",
        "4. **Feature Vector Formation**: Select the top k eigenvectors (where k is the desired number of dimensions) to form a feature vector.\n",
        "5. **Recasting the Data**: Transform the original dataset using the feature vector to obtain the new k-dimensional dataset.\n",
        "\n",
        "In this notebook, we will implement PCA manually step-by-step on an image dataset, demonstrating how each of these steps is carried out in Python.\n"
      ],
      "metadata": {
        "id": "hWTFDrir9ng_"
      }
    },
    {
      "cell_type": "markdown",
      "source": [
        "# Importing Required Libraries\n",
        "\n",
        "In this step, we will import all the necessary libraries that will be used throughout the implementation of PCA. We will need libraries for numerical computations, data manipulation, and visualization. Specifically, we will use:\n",
        "- `numpy` for numerical operations,\n",
        "- `matplotlib` and `seaborn` for data visualization,\n",
        "- `sklearn` for standardizing the data.\n",
        "\n",
        "Let's start by importing these libraries.\n",
        "\n"
      ],
      "metadata": {
        "id": "RHqcD5Y5-KNs"
      }
    },
    {
      "cell_type": "code",
      "source": [
        "import numpy as np\n",
        "from sklearn import datasets\n",
        "import matplotlib.pyplot as plt"
      ],
      "metadata": {
        "id": "8oJF--_1-olO"
      },
      "execution_count": 1,
      "outputs": []
    },
    {
      "cell_type": "markdown",
      "source": [
        "# Importing the Olivetti Faces Dataset\n",
        "\n",
        "Next, we will import the Olivetti Faces dataset. This dataset consists of 400 grayscale images of faces, with each image being 64x64 pixels. The images represent 40 different individuals, with 10 images per individual. This dataset is commonly used for testing image processing algorithms and facial recognition techniques. We will use this dataset to demonstrate the implementation of PCA, where we will reduce the dimensionality of the image data while retaining the most significant features.\n"
      ],
      "metadata": {
        "id": "GDZYphRn_V25"
      }
    },
    {
      "cell_type": "code",
      "source": [
        "dataset = datasets.fetch_olivetti_faces()"
      ],
      "metadata": {
        "colab": {
          "base_uri": "https://localhost:8080/"
        },
        "id": "UqgTxyY4-98s",
        "outputId": "732be32a-2753-4628-9939-58c72a8e6880"
      },
      "execution_count": 2,
      "outputs": [
        {
          "output_type": "stream",
          "name": "stdout",
          "text": [
            "downloading Olivetti faces from https://ndownloader.figshare.com/files/5976027 to /root/scikit_learn_data\n"
          ]
        }
      ]
    },
    {
      "cell_type": "markdown",
      "source": [
        "# Displaying the First Image from the Olivetti Faces Dataset\n",
        "\n",
        "To better understand the data we are working with, let's visualize the first face image from the Olivetti Faces dataset. This will give us a clear view of the original data before we apply PCA for dimensionality reduction. We'll display the image using `matplotlib`.\n"
      ],
      "metadata": {
        "id": "6R-ZRB4e_7_F"
      }
    },
    {
      "cell_type": "code",
      "source": [
        "first_face = dataset.data[0].reshape(64,64)\n",
        "plt.gray()\n",
        "plt.matshow(first_face)"
      ],
      "metadata": {
        "colab": {
          "base_uri": "https://localhost:8080/",
          "height": 472
        },
        "id": "CMgA-FBu_mY3",
        "outputId": "52cf863f-add1-41a3-8a37-3e1688bd78d5"
      },
      "execution_count": 5,
      "outputs": [
        {
          "output_type": "execute_result",
          "data": {
            "text/plain": [
              "<matplotlib.image.AxesImage at 0x7da1e99c4400>"
            ]
          },
          "metadata": {},
          "execution_count": 5
        },
        {
          "output_type": "display_data",
          "data": {
            "text/plain": [
              "<Figure size 640x480 with 0 Axes>"
            ]
          },
          "metadata": {}
        },
        {
          "output_type": "display_data",
          "data": {
            "text/plain": [
              "<Figure size 480x480 with 1 Axes>"
            ],
            "image/png": "[encoded data removed]"
          },
          "metadata": {}
        }
      ]
    },
    {
      "cell_type": "markdown",
      "source": [
        "# Exploring the Dataset: Examples and Features\n",
        "\n",
        "In this cell, we will explore the Olivetti Faces dataset to understand its structure. We'll display the number of examples (images) and their features (pixels). Additionally, we'll calculate and display the size of the covariance matrix, which is a crucial component in PCA. The covariance matrix helps us understand how different features (pixels) vary with respect to each other.\n"
      ],
      "metadata": {
        "id": "P13m5XBvBlxV"
      }
    },
    {
      "cell_type": "code",
      "source": [
        "X_data = dataset.data\n",
        "n_samples , n_features = X_data.shape\n",
        "print(f\"Number of examples (images): {n_samples}\")\n",
        "print(f\"Number of features (pixels per image): {n_features}\")"
      ],
      "metadata": {
        "colab": {
          "base_uri": "https://localhost:8080/"
        },
        "id": "KQ6Mm8e0AYW9",
        "outputId": "be099a9b-480c-487e-ca0b-debdd8233b4f"
      },
      "execution_count": 9,
      "outputs": [
        {
          "output_type": "stream",
          "name": "stdout",
          "text": [
            "Number of examples (images): 400\n",
            "Number of features (pixels per image): 4096\n"
          ]
        }
      ]
    },
    {
      "cell_type": "markdown",
      "source": [
        "# Standardizing the Dataset\n",
        "\n",
        "Before applying PCA, it is essential to standardize the dataset. Standardization ensures that each feature contributes equally to the analysis by transforming the data to have a mean of 0 and a standard deviation of 1. This process is also known as z-score normalization.\n",
        "\n",
        "The formula for standardizing data is:\n",
        " \\[\n",
        "X_n = \\frac{{X_{\\text{data}} - X_m}}{{X_s}}\n",
        "\\]\n",
        "\n",
        "where:\n",
        "- \\( X_n \\) is the standardized value,\n",
        "- \\( X_{\\text{data}} \\) is the original data value,\n",
        "- \\( X_m \\) is the mean of the feature (column),\n",
        "- \\( X_s \\) is the standard deviation of the feature (column).\n",
        "\n",
        "By applying this formula, each data point is transformed based on the mean and standard deviation of its respective feature. This ensures that the transformed data has a mean of 0 and a standard deviation of 1, making it suitable for PCA, which is sensitive to the variances of the original variables.\n",
        "\n"
      ],
      "metadata": {
        "id": "megIwPeIC1T5"
      }
    },
    {
      "cell_type": "code",
      "source": [
        "Xm = np.mean(X_data, axis=0)\n",
        "Xs = np.std(X_data, axis=0)\n",
        "Xv = np.var(X_data, axis=0)\n",
        "\n",
        "print(f'Mean befor standardization is {Xm}')\n",
        "print(f\"Standard deviation before standardization: {Xs}\")\n",
        "\n",
        "Xn = (X_data-Xm) / Xs  # Applying standardization\n"
      ],
      "metadata": {
        "colab": {
          "base_uri": "https://localhost:8080/"
        },
        "id": "ueAvcvcbB91_",
        "outputId": "8bc464e4-7f01-4f7b-e27a-c6a09654fca1"
      },
      "execution_count": 15,
      "outputs": [
        {
          "output_type": "stream",
          "name": "stdout",
          "text": [
            "Mean befor standardization is [0.40013435 0.43423545 0.4762809  ... 0.32141536 0.3136469  0.31045464]\n",
            "Standard deviation before standardization: [0.18046872 0.18926673 0.19449872 ... 0.18760698 0.18338676 0.1804086 ]\n"
          ]
        }
      ]
    },
    {
      "cell_type": "code",
      "source": [
        "Xm = np.mean(Xn, axis=0)\n",
        "Xs = np.std(Xn, axis=0)\n",
        "Xv = np.var(Xn, axis=0)\n",
        "\n",
        "print(f\"Mean after standardization (should be close to 0): {Xm}\")\n",
        "print(f\"Standard deviation after standardization (should be close to 1): {Xs}\")"
      ],
      "metadata": {
        "colab": {
          "base_uri": "https://localhost:8080/"
        },
        "id": "ErCpXYEhGdlO",
        "outputId": "09a2d8d9-27ae-4f69-ad20-3bbc32958b85"
      },
      "execution_count": 16,
      "outputs": [
        {
          "output_type": "stream",
          "name": "stdout",
          "text": [
            "Mean after standardization (should be close to 0): [-3.0502676e-07  3.8612635e-07  5.7131052e-07 ... -4.4494868e-07\n",
            " -1.1310353e-06 -5.1595271e-07]\n",
            "Standard deviation after standardization (should be close to 1): [0.9999999  1.0000002  1.0000001  ... 1.0000001  0.99999946 0.99999976]\n"
          ]
        }
      ]
    },
    {
      "cell_type": "markdown",
      "source": [
        "# Calculating the Covariance Matrix\n",
        "\n",
        "In this cell, we will calculate the covariance matrix of the standardized dataset. The covariance matrix is a square matrix that summarizes the covariance between each pair of features (columns) in the dataset. It provides crucial information about the relationships between variables and is a fundamental component in Principal Component Analysis (PCA).\n",
        "\n",
        "Let's compute the covariance matrix for our standardized dataset using NumPy's `np.cov()` function.\n"
      ],
      "metadata": {
        "id": "dN0rVVk6JVgU"
      }
    },
    {
      "cell_type": "code",
      "source": [
        "cov = np.cov(Xn.T)\n",
        "\n",
        "print(f\"Size of the covariance matrix: {cov.shape}\")"
      ],
      "metadata": {
        "colab": {
          "base_uri": "https://localhost:8080/"
        },
        "id": "ZNHSBUQQJiiE",
        "outputId": "6adf776b-4db0-408e-b02a-dca9532dcd4e"
      },
      "execution_count": 18,
      "outputs": [
        {
          "output_type": "stream",
          "name": "stdout",
          "text": [
            "Size of the covariance matrix: (4096, 4096)\n"
          ]
        }
      ]
    },
    {
      "cell_type": "markdown",
      "source": [
        "# Calculating Eigenvalues and Eigenvectors\n",
        "\n",
        "In this cell, we will compute the eigenvalues and eigenvectors of the covariance matrix. In the context of PCA, the eigenvectors represent the directions or principal components of maximum variance in the data, while the eigenvalues indicate the magnitude of variance along these directions.\n",
        "\n",
        "The eigenvectors are the directions along which the data varies the most, and the eigenvalues represent the amount of variance explained by each eigenvector. The principal components are ordered by the amount of variance they explain, with the first principal component explaining the most variance, followed by the second principal component, and so on.\n",
        "\n",
        "By calculating the eigenvalues and eigenvectors of the covariance matrix, we can determine the principal components of the data, which will be used to perform dimensionality reduction via PCA.\n"
      ],
      "metadata": {
        "id": "J6Au9vrMKKmc"
      }
    },
    {
      "cell_type": "code",
      "source": [
        "eig_values, eig_vectors = np.linalg.eig(cov)\n",
        "\n",
        "print(f'Eigenvalues are: {eig_values}')\n",
        "print(f'Eigenvectors are: {eig_vectors}')"
      ],
      "metadata": {
        "colab": {
          "base_uri": "https://localhost:8080/"
        },
        "id": "Y5SEpnJ2Jskn",
        "outputId": "e67fd12a-b2ec-4307-8f1e-ce2027096d4d"
      },
      "execution_count": 39,
      "outputs": [
        {
          "output_type": "stream",
          "name": "stdout",
          "text": [
            "Eigenvalues are: [ 1.10361838e+03+0.00000000e+00j  5.06810771e+02+0.00000000e+00j\n",
            "  3.21988946e+02+0.00000000e+00j ...  4.18688287e-16-7.28709616e-17j\n",
            " -4.78987561e-16+0.00000000e+00j -3.15752819e-16+0.00000000e+00j]\n",
            "Eigenvectors are: [[ 0.00332091+0.00000000e+00j  0.02209019+0.00000000e+00j\n",
            "   0.00096616+0.00000000e+00j ...  0.00040313+1.99198998e-04j\n",
            "  -0.00276838+0.00000000e+00j  0.00374572+0.00000000e+00j]\n",
            " [ 0.0051638 +0.00000000e+00j  0.02419231+0.00000000e+00j\n",
            "  -0.00080387+0.00000000e+00j ... -0.00021675-8.43696081e-05j\n",
            "  -0.00038933+0.00000000e+00j  0.00051613+0.00000000e+00j]\n",
            " [ 0.00662312+0.00000000e+00j  0.02679893+0.00000000e+00j\n",
            "  -0.00087628+0.00000000e+00j ...  0.00010935+4.72779223e-05j\n",
            "  -0.00047544+0.00000000e+00j  0.00011276+0.00000000e+00j]\n",
            " ...\n",
            " [-0.00136457+0.00000000e+00j -0.02241647+0.00000000e+00j\n",
            "  -0.00844198+0.00000000e+00j ... -0.00426578+8.74320843e-03j\n",
            "   0.01117905+0.00000000e+00j -0.00094926+0.00000000e+00j]\n",
            " [-0.00355313+0.00000000e+00j -0.02091237+0.00000000e+00j\n",
            "  -0.00716255+0.00000000e+00j ... -0.00234001-7.82135818e-04j\n",
            "   0.02157733+0.00000000e+00j -0.01827907+0.00000000e+00j]\n",
            " [-0.00343196+0.00000000e+00j -0.01938374+0.00000000e+00j\n",
            "  -0.00604271+0.00000000e+00j ...  0.01446317+5.24639165e-05j\n",
            "  -0.02418474+0.00000000e+00j  0.00042735+0.00000000e+00j]]\n"
          ]
        }
      ]
    },
    {
      "cell_type": "markdown",
      "source": [
        "# Sorting Eigenvalues and Choosing Principal Components\n",
        "\n",
        "In this cell, we will sort the eigenvalues in descending order and select the first 100 eigenvectors corresponding to the largest eigenvalues. This step is crucial in PCA, as it allows us to retain the most significant components that explain the maximum variance in the data.\n",
        "\n",
        "By choosing only a subset of the eigenvectors (principal components) based on their corresponding eigenvalues, we can reduce the dimensionality of the dataset while preserving most of the variability. This reduction in dimensionality simplifies subsequent analysis and visualization tasks while retaining the essential information contained in the data.\n",
        "\n",
        "Let's proceed to sort the eigenvalues and select the first 100 eigenvectors.\n"
      ],
      "metadata": {
        "id": "fy6pAU7WMUcF"
      }
    },
    {
      "cell_type": "code",
      "source": [
        "num_component = 100\n",
        "\n",
        "sorted_keys = np.argsort(eig_values)[::-1][:num_component]\n",
        "\n",
        "eig_values, pc = eig_values[sorted_keys], eig_vectors[:, sorted_keys]\n",
        "\n",
        "print(f'Now top 100 eigenvalues are: {eig_values}')\n",
        "print(f'And their corresponding eigenvectors (Principal Component) are: {pc}')"
      ],
      "metadata": {
        "colab": {
          "base_uri": "https://localhost:8080/"
        },
        "id": "Kp5HIwGCKynK",
        "outputId": "71ec93df-7de0-4d47-a245-2dc8839778c0"
      },
      "execution_count": 25,
      "outputs": [
        {
          "output_type": "stream",
          "name": "stdout",
          "text": [
            "Now top 100 eigenvalues are: [1103.61837729+0.j  506.81077075+0.j  321.98894616+0.j  192.52605165+0.j\n",
            "  133.29820071+0.j  127.32608256+0.j   97.88654411+0.j   85.07040679+0.j\n",
            "   76.28876455+0.j   67.59767237+0.j   62.99632621+0.j   55.5860037 +0.j\n",
            "   50.65339271+0.j   46.97242511+0.j   44.93781646+0.j   39.34571999+0.j\n",
            "   35.59951123+0.j   32.57948237+0.j   31.17925162+0.j   29.53297511+0.j\n",
            "   27.66548271+0.j   26.72432935+0.j   24.4001895 +0.j   22.73980663+0.j\n",
            "   22.05838703+0.j   21.06701803+0.j   20.38505338+0.j   19.42049711+0.j\n",
            "   17.28771355+0.j   16.89589378+0.j   16.18486669+0.j   15.20429242+0.j\n",
            "   14.96804845+0.j   13.74425096+0.j   13.49528854+0.j   13.09000679+0.j\n",
            "   12.65117701+0.j   11.94077346+0.j   11.6969789 +0.j   10.99207019+0.j\n",
            "   10.72117336+0.j   10.35741016+0.j   10.13508225+0.j   10.06972199+0.j\n",
            "    9.56947911+0.j    9.49308729+0.j    9.14254728+0.j    9.04815485+0.j\n",
            "    8.533534  +0.j    8.45599528+0.j    8.31978127+0.j    8.01234248+0.j\n",
            "    7.80035289+0.j    7.59868095+0.j    7.38476177+0.j    7.12700066+0.j\n",
            "    6.88566204+0.j    6.77425173+0.j    6.53242343+0.j    6.44956267+0.j\n",
            "    6.4020905 +0.j    6.19132496+0.j    6.08930718+0.j    5.94539127+0.j\n",
            "    5.82716082+0.j    5.72525721+0.j    5.67888333+0.j    5.45674428+0.j\n",
            "    5.41806546+0.j    5.28428884+0.j    5.20138077+0.j    5.17914631+0.j\n",
            "    4.98005589+0.j    4.94203539+0.j    4.7544033 +0.j    4.72024284+0.j\n",
            "    4.68322901+0.j    4.48470578+0.j    4.40419825+0.j    4.36853905+0.j\n",
            "    4.32374498+0.j    4.28665863+0.j    4.17876131+0.j    4.02656908+0.j\n",
            "    3.97958694+0.j    3.9007402 +0.j    3.87085558+0.j    3.73907723+0.j\n",
            "    3.72214069+0.j    3.70063341+0.j    3.64355191+0.j    3.53331621+0.j\n",
            "    3.49417612+0.j    3.44060824+0.j    3.41345232+0.j    3.34646183+0.j\n",
            "    3.32303248+0.j    3.21879984+0.j    3.16210336+0.j    3.11772081+0.j]\n",
            "And their corresponding eigenvectors (Principal Component) are: [[ 0.00332091+0.j  0.02209019+0.j  0.00096616+0.j ... -0.01602786+0.j\n",
            "  -0.00663898+0.j -0.00930992+0.j]\n",
            " [ 0.0051638 +0.j  0.02419231+0.j -0.00080387+0.j ... -0.01078456+0.j\n",
            "  -0.01204752+0.j -0.00885215+0.j]\n",
            " [ 0.00662312+0.j  0.02679893+0.j -0.00087628+0.j ...  0.00564327+0.j\n",
            "  -0.04338177+0.j  0.00361868+0.j]\n",
            " ...\n",
            " [-0.00136457+0.j -0.02241647+0.j -0.00844198+0.j ... -0.01095271+0.j\n",
            "   0.02835121+0.j -0.05312766+0.j]\n",
            " [-0.00355313+0.j -0.02091237+0.j -0.00716255+0.j ...  0.00445274+0.j\n",
            "   0.01867735+0.j -0.03922062+0.j]\n",
            " [-0.00343196+0.j -0.01938374+0.j -0.00604271+0.j ...  0.01197394+0.j\n",
            "   0.00864517+0.j -0.02033097+0.j]]\n"
          ]
        }
      ]
    },
    {
      "cell_type": "markdown",
      "source": [
        "# Projecting Data onto Principal Components\n",
        "\n",
        "In this step, we will project the original standardized data onto the selected principal components (eigenvectors). This process involves multiplying the standardized data matrix by the matrix of eigenvectors.\n",
        "\n",
        "By projecting the data onto the principal components, we obtain the principal component scores (PCS), which represent the coordinates of each data point in the new lower-dimensional space defined by the principal components. These scores capture the essential information about each data point in terms of the principal components' directions.\n",
        "\n",
        "Calculating the PCS is a crucial step in PCA, as it allows us to represent the data in a reduced-dimensional space while retaining most of its variance. This facilitates further analysis, visualization, and modeling tasks.\n",
        "\n",
        "Let's proceed to project the data onto the principal components.\n"
      ],
      "metadata": {
        "id": "dXuHbFqLOD8R"
      }
    },
    {
      "cell_type": "code",
      "source": [
        "Z = np.dot(Xn, pc)\n",
        "\n",
        "print(f'Dimensions of the transformed matrix is: {Z.shape}')"
      ],
      "metadata": {
        "colab": {
          "base_uri": "https://localhost:8080/"
        },
        "id": "3bvWKrPNM6-p",
        "outputId": "1a2bc7e8-6879-4ddb-8639-3a74e732fa3b"
      },
      "execution_count": 26,
      "outputs": [
        {
          "output_type": "stream",
          "name": "stdout",
          "text": [
            "Dimensions of the transformed matrix is: (400, 100)\n"
          ]
        }
      ]
    },
    {
      "cell_type": "markdown",
      "source": [
        "# Reconstructing the Data from Principal Components\n",
        "\n",
        "In this cell, we will reconstruct the original data from the projected principal components. This involves taking the transpose of the PCA transformation matrix and multiplying it with the projected data matrix.\n",
        "\n",
        "Reconstructing the data allows us to examine how well the PCA representation captures the essential information from the original dataset. It is an essential step in PCA analysis for evaluating the effectiveness of dimensionality reduction and understanding the trade-offs between reducing dimensionality and preserving information.\n",
        "\n",
        "Let's proceed to reconstruct the data from the principal components.\n"
      ],
      "metadata": {
        "id": "a38sR4F4Qz2A"
      }
    },
    {
      "cell_type": "code",
      "source": [
        "transpose_pc = pc.T\n",
        "\n",
        "obtained_data = np.dot(Z, transpose_pc)\n"
      ],
      "metadata": {
        "id": "l7vjRjmtOrQS"
      },
      "execution_count": 28,
      "outputs": []
    },
    {
      "cell_type": "markdown",
      "source": [
        "# Displaying the Reconstructed First Face\n",
        "\n",
        "In this cell, we will display the reconstructed first face from the dataset. After reconstructing the data from the principal components, we can visualize how well the PCA representation captures the essential features of the original image.\n",
        "\n",
        "Let's proceed to display the reconstructed first face.\n"
      ],
      "metadata": {
        "id": "nlg_S-I1Rzmo"
      }
    },
    {
      "cell_type": "code",
      "source": [
        "first_face = obtained_data[0].reshape(64,64).astype(np.float64)\n",
        "\n",
        "plt.matshow(first_face)"
      ],
      "metadata": {
        "colab": {
          "base_uri": "https://localhost:8080/",
          "height": 489
        },
        "id": "Vg1-whTlQIiq",
        "outputId": "6852ea3c-168b-4f20-c98d-ef0dd734f3ea"
      },
      "execution_count": 29,
      "outputs": [
        {
          "output_type": "stream",
          "name": "stderr",
          "text": [
            "<ipython-input-29-25b3a41c750b>:1: ComplexWarning: Casting complex values to real discards the imaginary part\n",
            "  first_face = obtained_data[0].reshape(64,64).astype(np.float64)\n"
          ]
        },
        {
          "output_type": "execute_result",
          "data": {
            "text/plain": [
              "<matplotlib.image.AxesImage at 0x7da1e9ac6230>"
            ]
          },
          "metadata": {},
          "execution_count": 29
        },
        {
          "output_type": "display_data",
          "data": {
            "text/plain": [
              "<Figure size 480x480 with 1 Axes>"
            ],
            "image/png": "[encoded data removed]"
          },
          "metadata": {}
        }
      ]
    },
    {
      "cell_type": "markdown",
      "source": [
        "# Calculating Variance Explained by Principal Components\n",
        "\n",
        "In this final step, we will calculate the variance explained by each principal component and determine how much variance is captured by the first 100 principal components. This analysis helps us understand the extent to which the principal components represent the variability present in the original dataset.\n",
        "\n",
        "Let's proceed to calculate the variance explained by the principal components and determine the cumulative variance captured by the first 100 principal components.\n"
      ],
      "metadata": {
        "id": "8eVlc9WTTR6f"
      }
    },
    {
      "cell_type": "code",
      "source": [
        "cumulative_variance = np.var(np.dot(Xn, eig_vectors), axis=0)\n",
        "\n",
        "index = np.argsort(-cumulative_variance)\n",
        "cumulative_variance = cumulative_variance[index]\n",
        "\n",
        "variance_captured = np.cumsum(cumulative_variance) / np.sum(cumulative_variance)\n",
        "print(f'Percentage of variance we captured in the first 100 eigen vectors is: {variance_captured[99]*100}%')"
      ],
      "metadata": {
        "colab": {
          "base_uri": "https://localhost:8080/"
        },
        "id": "ltlY1GQ9SKTc",
        "outputId": "3db9003e-b8a8-4faf-cdf0-8fd62ea0dd42"
      },
      "execution_count": 41,
      "outputs": [
        {
          "output_type": "stream",
          "name": "stdout",
          "text": [
            "Percentage of variance we captured in the first 100 eigen vectors is: 93.56375347955003%\n"
          ]
        }
      ]
    },
    {
      "cell_type": "markdown",
      "source": [
        "**Now, we can see that we have captured about 93% of face information by using just 100 principal components out of the total 4096 features.**\n"
      ],
      "metadata": {
        "id": "i2lugFZMYA4X"
      }
    }
  ]
}